{
 "cells": [
  {
   "cell_type": "markdown",
   "id": "027a9fdc-6cdf-477b-9ec3-64b844227e87",
   "metadata": {},
   "source": [
    "# Simulated Data CancerPatientReviewer"
   ]
  },
  {
   "cell_type": "code",
   "execution_count": 1,
   "id": "00a79249-b126-4607-b7bf-0489f335ec65",
   "metadata": {},
   "outputs": [],
   "source": [
    "%load_ext autoreload\n",
    "%autoreload 2"
   ]
  },
  {
   "cell_type": "code",
   "execution_count": 2,
   "id": "933a56eb-b612-4280-b837-66ab29d5ca5b",
   "metadata": {},
   "outputs": [],
   "source": [
    "from CancerPatientReviewer.Reviewers.CancerPatientReviewer import CancerPatientReviewer, collect_data\n",
    "\n",
    "import pandas as pd\n",
    "import pickle"
   ]
  },
  {
   "cell_type": "markdown",
   "id": "2ea17e36-f6a1-4b77-a883-948d57b3bc70",
   "metadata": {},
   "source": [
    "# Set up simuated tumor data\n",
    "\n",
    "If `SimulatedTumorData` submodule is not in the `example_notebooks` directory, clone the `SimulatedTumorData` repository in the `example_notebooks` directory\n",
    "```\n",
    "git clone https://github.com/getzlab/SimulatedTumorData\n",
    "```\n"
   ]
  },
  {
   "cell_type": "code",
   "execution_count": null,
   "id": "b5e068bb-d376-46be-a629-e78a3c7ecbf0",
   "metadata": {
    "scrolled": true
   },
   "outputs": [],
   "source": [
    "# Run to install packages for loading the patient and sample data. Only need to run once in your environment.\n",
    "! pip install -e SimulatedTumorData/."
   ]
  },
  {
   "cell_type": "markdown",
   "id": "e57969f4-506b-48c5-8f28-c5d1e7a17c2f",
   "metadata": {},
   "source": [
    "## Load Data"
   ]
  },
  {
   "cell_type": "code",
   "execution_count": 3,
   "id": "e84696e2-0329-40aa-8128-6fc51fe4a779",
   "metadata": {},
   "outputs": [],
   "source": [
    "from SimulatedTumorData.src.generate_simulated_data import load_patients_and_samples"
   ]
  },
  {
   "cell_type": "code",
   "execution_count": 5,
   "id": "1317ae4e-65ff-4a7c-b17f-eb3528ba40f3",
   "metadata": {
    "scrolled": true
   },
   "outputs": [
    {
     "name": "stdout",
     "output_type": "stream",
     "text": [
      "loading existing CNV pickle file SimulatedTumorData/sim_data/patient1/patient1.cnv_events.pkl\n",
      "SimulatedTumorData/sim_data/patient1/sample_coverage/p1_t1.binned_coverage.tsv already exists.\n",
      "SimulatedTumorData/sim_data/patient1/sample_coverage/p1_t2.binned_coverage.tsv already exists.\n",
      "SimulatedTumorData/sim_data/patient1/sample_coverage/p1_t3.binned_coverage.tsv already exists.\n",
      "patient variants path exists: SimulatedTumorData/sim_data/patient1/patient1.variants.tsv\n",
      "Sample p1_t1 has variants_fn: SimulatedTumorData/sim_data/patient1/sample_muts/p1_t1.variants.tsv\n",
      "Sample p1_t2 has variants_fn: SimulatedTumorData/sim_data/patient1/sample_muts/p1_t2.variants.tsv\n",
      "Sample p1_t3 has variants_fn: SimulatedTumorData/sim_data/patient1/sample_muts/p1_t3.variants.tsv\n",
      "Generated sif file: SimulatedTumorData/sim_data/patient1/patient1.phylogicNDT.sif\n",
      "Phylogic results are already loaded here: SimulatedTumorData/sim_data/patient1/phylogicNDT_results\n",
      "Generated patient_reviewer_sample_data_fn: SimulatedTumorData/sim_data/patient1/patient_reviewer_data/patient1_samples_data.tsv\n",
      "Generated patient_reviewer_patient_data_fn: SimulatedTumorData/sim_data/patient1/patient_reviewer_data/patient1_data.tsv\n",
      "loading existing CNV pickle file SimulatedTumorData/sim_data/patient2/patient2.cnv_events.pkl\n",
      "SimulatedTumorData/sim_data/patient2/sample_coverage/p2_t1.binned_coverage.tsv already exists.\n",
      "SimulatedTumorData/sim_data/patient2/sample_coverage/p2_t2.binned_coverage.tsv already exists.\n",
      "SimulatedTumorData/sim_data/patient2/sample_coverage/p2_t3.binned_coverage.tsv already exists.\n",
      "patient variants path exists: SimulatedTumorData/sim_data/patient2/patient2.variants.tsv\n",
      "Sample p2_t1 has variants_fn: SimulatedTumorData/sim_data/patient2/sample_muts/p2_t1.variants.tsv\n",
      "Sample p2_t2 has variants_fn: SimulatedTumorData/sim_data/patient2/sample_muts/p2_t2.variants.tsv\n",
      "Sample p2_t3 has variants_fn: SimulatedTumorData/sim_data/patient2/sample_muts/p2_t3.variants.tsv\n",
      "Generated sif file: SimulatedTumorData/sim_data/patient2/patient2.phylogicNDT.sif\n",
      "Phylogic results are already loaded here: SimulatedTumorData/sim_data/patient2/phylogicNDT_results\n",
      "Generated patient_reviewer_sample_data_fn: SimulatedTumorData/sim_data/patient2/patient_reviewer_data/patient2_samples_data.tsv\n",
      "Generated patient_reviewer_patient_data_fn: SimulatedTumorData/sim_data/patient2/patient_reviewer_data/patient1_data.tsv\n"
     ]
    }
   ],
   "source": [
    "samples, participants = load_patients_and_samples(\n",
    "    path_to_sim_data='SimulatedTumorData/sim_data'\n",
    ")"
   ]
  },
  {
   "cell_type": "code",
   "execution_count": 6,
   "id": "70cf86d7-958c-4a8d-97af-2b0b373bf737",
   "metadata": {},
   "outputs": [],
   "source": [
    "df = pd.read_csv(samples['cnv_seg_fn'].iloc[0], sep='\\t')"
   ]
  },
  {
   "cell_type": "code",
   "execution_count": 7,
   "id": "7e93b686-b5b8-4e6f-bbce-cfe377be611d",
   "metadata": {},
   "outputs": [
    {
     "data": {
      "text/html": [
       "<div>\n",
       "<style scoped>\n",
       "    .dataframe tbody tr th:only-of-type {\n",
       "        vertical-align: middle;\n",
       "    }\n",
       "\n",
       "    .dataframe tbody tr th {\n",
       "        vertical-align: top;\n",
       "    }\n",
       "\n",
       "    .dataframe thead th {\n",
       "        text-align: right;\n",
       "    }\n",
       "</style>\n",
       "<table border=\"1\" class=\"dataframe\">\n",
       "  <thead>\n",
       "    <tr style=\"text-align: right;\">\n",
       "      <th></th>\n",
       "      <th>Chromosome</th>\n",
       "      <th>Start.bp</th>\n",
       "      <th>End.bp</th>\n",
       "      <th>mu.major</th>\n",
       "      <th>mu.minor</th>\n",
       "      <th>length</th>\n",
       "      <th>n_probes</th>\n",
       "      <th>n_hets</th>\n",
       "      <th>tau</th>\n",
       "      <th>sigma.minor</th>\n",
       "      <th>sigma.major</th>\n",
       "    </tr>\n",
       "  </thead>\n",
       "  <tbody>\n",
       "    <tr>\n",
       "      <th>0</th>\n",
       "      <td>1</td>\n",
       "      <td>1</td>\n",
       "      <td>249250621</td>\n",
       "      <td>0.934612</td>\n",
       "      <td>0.280384</td>\n",
       "      <td>249250620</td>\n",
       "      <td>12462</td>\n",
       "      <td>249</td>\n",
       "      <td>1.0</td>\n",
       "      <td>0.024514</td>\n",
       "      <td>0.037470</td>\n",
       "    </tr>\n",
       "    <tr>\n",
       "      <th>1</th>\n",
       "      <td>2</td>\n",
       "      <td>1</td>\n",
       "      <td>115116963</td>\n",
       "      <td>0.934612</td>\n",
       "      <td>0.934612</td>\n",
       "      <td>115116962</td>\n",
       "      <td>5755</td>\n",
       "      <td>115</td>\n",
       "      <td>2.0</td>\n",
       "      <td>0.013111</td>\n",
       "      <td>0.020041</td>\n",
       "    </tr>\n",
       "    <tr>\n",
       "      <th>2</th>\n",
       "      <td>2</td>\n",
       "      <td>115116963</td>\n",
       "      <td>129712734</td>\n",
       "      <td>2.897297</td>\n",
       "      <td>0.934612</td>\n",
       "      <td>14595771</td>\n",
       "      <td>729</td>\n",
       "      <td>14</td>\n",
       "      <td>5.0</td>\n",
       "      <td>0.000223</td>\n",
       "      <td>0.000342</td>\n",
       "    </tr>\n",
       "    <tr>\n",
       "      <th>3</th>\n",
       "      <td>2</td>\n",
       "      <td>129712734</td>\n",
       "      <td>243199373</td>\n",
       "      <td>0.934612</td>\n",
       "      <td>0.934612</td>\n",
       "      <td>113486639</td>\n",
       "      <td>5674</td>\n",
       "      <td>113</td>\n",
       "      <td>2.0</td>\n",
       "      <td>0.037405</td>\n",
       "      <td>0.057174</td>\n",
       "    </tr>\n",
       "    <tr>\n",
       "      <th>4</th>\n",
       "      <td>3</td>\n",
       "      <td>1</td>\n",
       "      <td>198022430</td>\n",
       "      <td>0.934612</td>\n",
       "      <td>0.280384</td>\n",
       "      <td>198022429</td>\n",
       "      <td>9901</td>\n",
       "      <td>198</td>\n",
       "      <td>1.0</td>\n",
       "      <td>0.009265</td>\n",
       "      <td>0.014162</td>\n",
       "    </tr>\n",
       "  </tbody>\n",
       "</table>\n",
       "</div>"
      ],
      "text/plain": [
       "   Chromosome   Start.bp     End.bp  mu.major  mu.minor     length  n_probes  \\\n",
       "0           1          1  249250621  0.934612  0.280384  249250620     12462   \n",
       "1           2          1  115116963  0.934612  0.934612  115116962      5755   \n",
       "2           2  115116963  129712734  2.897297  0.934612   14595771       729   \n",
       "3           2  129712734  243199373  0.934612  0.934612  113486639      5674   \n",
       "4           3          1  198022430  0.934612  0.280384  198022429      9901   \n",
       "\n",
       "   n_hets  tau  sigma.minor  sigma.major  \n",
       "0     249  1.0     0.024514     0.037470  \n",
       "1     115  2.0     0.013111     0.020041  \n",
       "2      14  5.0     0.000223     0.000342  \n",
       "3     113  2.0     0.037405     0.057174  \n",
       "4     198  1.0     0.009265     0.014162  "
      ]
     },
     "execution_count": 7,
     "metadata": {},
     "output_type": "execute_result"
    }
   ],
   "source": [
    "df.head()"
   ]
  },
  {
   "cell_type": "markdown",
   "id": "e6b47d72-aa65-4d73-9e45-730982dab04e",
   "metadata": {},
   "source": [
    "# Run CancerPatientReviewer"
   ]
  },
  {
   "cell_type": "markdown",
   "id": "83e7eb19-56a8-4e4d-b237-093a8928ba88",
   "metadata": {},
   "source": [
    "## Set up reviewer"
   ]
  },
  {
   "cell_type": "code",
   "execution_count": 14,
   "id": "7b7a0f79-8b3b-4c6e-962a-852f9634d099",
   "metadata": {},
   "outputs": [
    {
     "name": "stderr",
     "output_type": "stream",
     "text": [
      "/Users/cchu/Desktop/Methods/AnnoMate/AnnoMate/ReviewDataInterface.py:38: UserWarning:\n",
      "\n",
      "Loading existing data pkl file\n",
      "\n"
     ]
    }
   ],
   "source": [
    "reviewer = CancerPatientReviewer()\n",
    "reviewer.set_review_data(\n",
    "    # Enter the file path where you would like your pkl file of your review data to be stored\n",
    "    data_pkl_fn='SimulatedReview.pkl',\n",
    "    # Breifly describe the source of your data and its purpose\n",
    "    description='patient review',\n",
    "    # Enter the file path to your data to be reviewed\n",
    "    participant_df=participants,\n",
    "    sample_df=samples,\n",
    ")\n",
    "\n",
    "reviewer.set_review_app(\n",
    "    # drivers_fn='example_data/drivers1.csv'\n",
    "    phylogicNDT_tree_meta_col=None,\n",
    ")\n",
    "reviewer.set_default_review_data_annotations_configuration()\n",
    "reviewer.set_default_autofill()"
   ]
  },
  {
   "cell_type": "markdown",
   "id": "97c8d71b-7314-4cd1-83fc-ff57b76dab31",
   "metadata": {},
   "source": [
    "## Run reviewer"
   ]
  },
  {
   "cell_type": "code",
   "execution_count": 16,
   "id": "7a52acbf-8549-4433-b5e8-f62c6692bbe1",
   "metadata": {},
   "outputs": [],
   "source": [
    "# clear cache\n",
    "reviewer.clear_cache()"
   ]
  },
  {
   "cell_type": "code",
   "execution_count": 17,
   "id": "bb052f87-0cca-4689-a786-e6eaef4b919e",
   "metadata": {},
   "outputs": [
    {
     "name": "stdout",
     "output_type": "stream",
     "text": [
      "Setting auto_export_path to SimulatedReview.auto_export\n",
      "Dash app running on http://0.0.0.0:8088/\n"
     ]
    },
    {
     "name": "stderr",
     "output_type": "stream",
     "text": [
      "/Users/cchu/Desktop/Methods/AnnoMate/AnnoMate/AppComponents/MutationTableComponent.py:444: SettingWithCopyWarning:\n",
      "\n",
      "\n",
      "A value is trying to be set on a copy of a slice from a DataFrame\n",
      "\n",
      "See the caveats in the documentation: https://pandas.pydata.org/pandas-docs/stable/user_guide/indexing.html#returning-a-view-versus-a-copy\n",
      "\n",
      "/Users/cchu/Desktop/Methods/AnnoMate/AnnoMate/AppComponents/MutationTableComponent.py:445: SettingWithCopyWarning:\n",
      "\n",
      "\n",
      "A value is trying to be set on a copy of a slice from a DataFrame.\n",
      "Try using .loc[row_indexer,col_indexer] = value instead\n",
      "\n",
      "See the caveats in the documentation: https://pandas.pydata.org/pandas-docs/stable/user_guide/indexing.html#returning-a-view-versus-a-copy\n",
      "\n",
      "/Users/cchu/Desktop/Methods/AnnoMate/AnnoMate/AppComponents/MutationTableComponent.py:444: SettingWithCopyWarning:\n",
      "\n",
      "\n",
      "A value is trying to be set on a copy of a slice from a DataFrame\n",
      "\n",
      "See the caveats in the documentation: https://pandas.pydata.org/pandas-docs/stable/user_guide/indexing.html#returning-a-view-versus-a-copy\n",
      "\n",
      "/Users/cchu/Desktop/Methods/AnnoMate/AnnoMate/AppComponents/MutationTableComponent.py:445: SettingWithCopyWarning:\n",
      "\n",
      "\n",
      "A value is trying to be set on a copy of a slice from a DataFrame.\n",
      "Try using .loc[row_indexer,col_indexer] = value instead\n",
      "\n",
      "See the caveats in the documentation: https://pandas.pydata.org/pandas-docs/stable/user_guide/indexing.html#returning-a-view-versus-a-copy\n",
      "\n"
     ]
    }
   ],
   "source": [
    "reviewer.run(\n",
    "    mode='external', collapsable=False, port=8088, hide_history_df_cols=['source_data_fn', 'timestamp'],\n",
    "    # components_name_order=['Mutations', 'PhylogicNDT Results', 'CNV Plot'],\n",
    ")"
   ]
  },
  {
   "cell_type": "code",
   "execution_count": 18,
   "id": "fba21a22-1411-4421-bc14-8a92ad5485dc",
   "metadata": {},
   "outputs": [
    {
     "data": {
      "text/html": [
       "<div>\n",
       "<style scoped>\n",
       "    .dataframe tbody tr th:only-of-type {\n",
       "        vertical-align: middle;\n",
       "    }\n",
       "\n",
       "    .dataframe tbody tr th {\n",
       "        vertical-align: top;\n",
       "    }\n",
       "\n",
       "    .dataframe thead th {\n",
       "        text-align: right;\n",
       "    }\n",
       "</style>\n",
       "<table border=\"1\" class=\"dataframe\">\n",
       "  <thead>\n",
       "    <tr style=\"text-align: right;\">\n",
       "      <th></th>\n",
       "      <th>Selected Tree (idx)</th>\n",
       "      <th>Status</th>\n",
       "      <th>Notes</th>\n",
       "    </tr>\n",
       "  </thead>\n",
       "  <tbody>\n",
       "    <tr>\n",
       "      <th>patient1</th>\n",
       "      <td></td>\n",
       "      <td></td>\n",
       "      <td></td>\n",
       "    </tr>\n",
       "    <tr>\n",
       "      <th>patient2</th>\n",
       "      <td></td>\n",
       "      <td></td>\n",
       "      <td></td>\n",
       "    </tr>\n",
       "  </tbody>\n",
       "</table>\n",
       "</div>"
      ],
      "text/plain": [
       "         Selected Tree (idx) Status Notes\n",
       "patient1                                 \n",
       "patient2                                 "
      ]
     },
     "execution_count": 18,
     "metadata": {},
     "output_type": "execute_result"
    }
   ],
   "source": [
    "reviewer.get_annot()"
   ]
  },
  {
   "cell_type": "code",
   "execution_count": null,
   "id": "f9ef4fa8-7bda-4b14-ba55-4f1e2511420c",
   "metadata": {},
   "outputs": [],
   "source": []
  },
  {
   "cell_type": "code",
   "execution_count": null,
   "id": "a3ee769e-2344-4477-82ce-639eb363da5a",
   "metadata": {},
   "outputs": [],
   "source": []
  }
 ],
 "metadata": {
  "kernelspec": {
   "display_name": "Python [conda env:cancer_patient_reviewer_env]",
   "language": "python",
   "name": "conda-env-cancer_patient_reviewer_env-py"
  },
  "language_info": {
   "codemirror_mode": {
    "name": "ipython",
    "version": 3
   },
   "file_extension": ".py",
   "mimetype": "text/x-python",
   "name": "python",
   "nbconvert_exporter": "python",
   "pygments_lexer": "ipython3",
   "version": "3.8.17"
  }
 },
 "nbformat": 4,
 "nbformat_minor": 5
}
