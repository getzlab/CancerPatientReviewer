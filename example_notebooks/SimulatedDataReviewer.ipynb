{
 "cells": [
  {
   "cell_type": "markdown",
   "id": "027a9fdc-6cdf-477b-9ec3-64b844227e87",
   "metadata": {},
   "source": [
    "# Simulated Data Patient Reviewer"
   ]
  },
  {
   "cell_type": "code",
   "execution_count": 1,
   "id": "00a79249-b126-4607-b7bf-0489f335ec65",
   "metadata": {},
   "outputs": [],
   "source": [
    "%load_ext autoreload\n",
    "%autoreload 2"
   ]
  },
  {
   "cell_type": "code",
   "execution_count": 2,
   "id": "933a56eb-b612-4280-b837-66ab29d5ca5b",
   "metadata": {},
   "outputs": [],
   "source": [
    "from PatientReviewer.Reviewers.PatientReviewer import PatientReviewer, collect_data"
   ]
  },
  {
   "cell_type": "code",
   "execution_count": 3,
   "id": "cee26163-5e73-4568-bdd7-000a0986a492",
   "metadata": {},
   "outputs": [],
   "source": [
    "import pandas as pd"
   ]
  },
  {
   "cell_type": "code",
   "execution_count": 4,
   "id": "3b097770-78f5-4699-8d0d-72729285c188",
   "metadata": {},
   "outputs": [],
   "source": [
    "samples = pd.read_csv('../../Annomate/simulated_data/output_data/patient1_samples.tsv', sep='\\t')\n",
    "participant = pd.read_csv('../../Annomate/simulated_data/output_data/patient1.tsv', sep='\\t')"
   ]
  },
  {
   "cell_type": "code",
   "execution_count": 5,
   "id": "4304eed3-aad0-4e6f-a1c3-b0d205316123",
   "metadata": {},
   "outputs": [],
   "source": [
    "import functools\n",
    "import gc # garbage collection\n",
    "# All objects collected\n",
    "objects = [i for i in gc.get_objects() if isinstance(i, functools._lru_cache_wrapper)]\n",
    "  \n",
    "# All objects cleared\n",
    "for object in objects:\n",
    "    object.cache_clear()"
   ]
  },
  {
   "cell_type": "code",
   "execution_count": 13,
   "id": "7b7a0f79-8b3b-4c6e-962a-852f9634d099",
   "metadata": {},
   "outputs": [
    {
     "name": "stderr",
     "output_type": "stream",
     "text": [
      "/Users/svansete/Code/getzlab/AnnoMate/AnnoMate/ReviewDataInterface.py:38: UserWarning:\n",
      "\n",
      "Loading existing data pkl file\n",
      "\n"
     ]
    }
   ],
   "source": [
    "reviewer = PatientReviewer()\n",
    "reviewer.set_review_data(\n",
    "    # Enter the file path where you would like your pkl file of your review data to be stored\n",
    "    data_pkl_fn='../SimulatedReview.pkl',\n",
    "    # Breifly describe the source of your data and its purpose\n",
    "    description='patient review',\n",
    "    # Enter the file path to your data to be reviewed\n",
    "    participant_df=participant.set_index('participant_id'),\n",
    "    sample_df=samples.set_index('sample_id'),\n",
    ")\n",
    "\n",
    "reviewer.set_review_app(drivers_fn='example_data/drivers1.csv')\n",
    "reviewer.set_default_review_data_annotations_configuration()\n",
    "reviewer.set_default_autofill()"
   ]
  },
  {
   "cell_type": "code",
   "execution_count": 14,
   "id": "bb052f87-0cca-4689-a786-e6eaef4b919e",
   "metadata": {},
   "outputs": [
    {
     "name": "stdout",
     "output_type": "stream",
     "text": [
      "Setting auto_export_path to ../SimulatedReview.auto_export\n",
      "Using ../SimulatedReview.auto_export for auto exporting.\n",
      "Dash app running on http://0.0.0.0:8088/\n"
     ]
    }
   ],
   "source": [
    "reviewer.run(mode='external', collapsable=False, port=8088)"
   ]
  },
  {
   "cell_type": "code",
   "execution_count": 8,
   "id": "fba21a22-1411-4421-bc14-8a92ad5485dc",
   "metadata": {},
   "outputs": [
    {
     "data": {
      "text/html": [
       "<div>\n",
       "<style scoped>\n",
       "    .dataframe tbody tr th:only-of-type {\n",
       "        vertical-align: middle;\n",
       "    }\n",
       "\n",
       "    .dataframe tbody tr th {\n",
       "        vertical-align: top;\n",
       "    }\n",
       "\n",
       "    .dataframe thead th {\n",
       "        text-align: right;\n",
       "    }\n",
       "</style>\n",
       "<table border=\"1\" class=\"dataframe\">\n",
       "  <thead>\n",
       "    <tr style=\"text-align: right;\">\n",
       "      <th></th>\n",
       "      <th>Selected Tree (idx)</th>\n",
       "      <th>Status</th>\n",
       "      <th>Notes</th>\n",
       "    </tr>\n",
       "  </thead>\n",
       "  <tbody>\n",
       "    <tr>\n",
       "      <th>patient1</th>\n",
       "      <td></td>\n",
       "      <td></td>\n",
       "      <td></td>\n",
       "    </tr>\n",
       "  </tbody>\n",
       "</table>\n",
       "</div>"
      ],
      "text/plain": [
       "         Selected Tree (idx) Status Notes\n",
       "patient1                                 "
      ]
     },
     "execution_count": 8,
     "metadata": {},
     "output_type": "execute_result"
    }
   ],
   "source": [
    "reviewer.get_annot()"
   ]
  },
  {
   "cell_type": "code",
   "execution_count": null,
   "id": "766327c4-36af-4abd-8f08-e02cd18e66b9",
   "metadata": {},
   "outputs": [],
   "source": []
  }
 ],
 "metadata": {
  "kernelspec": {
   "display_name": "Python 3 (ipykernel)",
   "language": "python",
   "name": "python3"
  },
  "language_info": {
   "codemirror_mode": {
    "name": "ipython",
    "version": 3
   },
   "file_extension": ".py",
   "mimetype": "text/x-python",
   "name": "python",
   "nbconvert_exporter": "python",
   "pygments_lexer": "ipython3",
   "version": "3.9.6"
  }
 },
 "nbformat": 4,
 "nbformat_minor": 5
}
