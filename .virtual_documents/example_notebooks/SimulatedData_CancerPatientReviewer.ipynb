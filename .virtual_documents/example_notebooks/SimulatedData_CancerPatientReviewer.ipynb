


%load_ext autoreload
%autoreload 2


from CancerPatientReviewer.Reviewers.CancerPatientReviewer import CancerPatientReviewer, collect_data

import pandas as pd
import pickle





import os
import sys

abs_path_to_sim_data_repo_src = '/Users/cchu/Desktop/Methods/SimulatedTumorData' # <-- update
sys.path.insert(0, abs_path_to_sim_data_repo_src)


from src.generate_simulated_data import load_patients_and_samples


samples, participants = load_patients_and_samples(
    path_to_sim_data='/Users/cchu/Desktop/Methods/SimulatedTumorData/sim_data'
)


df = pd.read_csv(samples['cnv_seg_fn'].iloc[0], sep='\t')


c0, cn_diff = calc_cn_levels(samples.wxs_purity.iloc[0], samples.wxs_ploidy.iloc[0], avg_cn=1)


from cnv_suite import calc_absolute_cn


calc_absolute_cn(df['mu.minor'], df['mu.major'], df['sigma.minor'], c0, cn_diff, zero_min=True)


df


participants


import functools
import gc # garbage collection
# All objects collected
objects = [i for i in gc.get_objects() if isinstance(i, functools._lru_cache_wrapper)]
  
# All objects cleared
for object in objects:
    object.cache_clear()


reviewer = CancerPatientReviewer()
reviewer.set_review_data(
    # Enter the file path where you would like your pkl file of your review data to be stored
    data_pkl_fn='SimulatedReview.pkl',
    # Breifly describe the source of your data and its purpose
    description='patient review',
    # Enter the file path to your data to be reviewed
    participant_df=participants,
    sample_df=samples,
)

reviewer.set_review_app(
    # drivers_fn='example_data/drivers1.csv'
    phylogicNDT_tree_meta_col=None,
)
reviewer.set_default_review_data_annotations_configuration()
reviewer.set_default_autofill()


reviewer.run(
    mode='external', collapsable=False, port=8088, hide_history_df_cols=['source_data_fn', 'timestamp'],
    # components_name_order=['Mutations', 'PhylogicNDT Results', 'CNV Plot'],
)


reviewer.get_annot()






